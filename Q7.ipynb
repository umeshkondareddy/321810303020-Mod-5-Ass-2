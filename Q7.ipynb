{
 "cells": [
  {
   "cell_type": "code",
   "execution_count": 5,
   "metadata": {},
   "outputs": [
    {
     "name": "stdout",
     "output_type": "stream",
     "text": [
      "original tuple: ('t', 'e', 'c', 'h', 'n', 'i', 'q', 'u', 'e')\n",
      "after the reversing the tuple: ('e', 'u', 'q', 'i', 'n', 'h', 'c', 'e', 't')\n"
     ]
    }
   ],
   "source": [
    "o=(\"technique\")\n",
    "print(\"original tuple:\",tuple(o))\n",
    "p=reversed(o)\n",
    "print(\"after the reversing the tuple:\",tuple(p))"
   ]
  }
 ],
 "metadata": {
  "kernelspec": {
   "display_name": "Python 3",
   "language": "python",
   "name": "python3"
  },
  "language_info": {
   "codemirror_mode": {
    "name": "ipython",
    "version": 3
   },
   "file_extension": ".py",
   "mimetype": "text/x-python",
   "name": "python",
   "nbconvert_exporter": "python",
   "pygments_lexer": "ipython3",
   "version": "3.7.6"
  }
 },
 "nbformat": 4,
 "nbformat_minor": 4
}
